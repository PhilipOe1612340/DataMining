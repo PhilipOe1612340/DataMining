{
 "cells": [
  {
   "cell_type": "markdown",
   "metadata": {},
   "source": [
    "Data Mining: Basic Concepts - WS'19/20 \n",
    "---------------\n",
    "``` \n",
    "> University of Konstanz \n",
    "> Department of Computer and Information Science\n",
    "> Dr. Johannes Fuchs, Eren Cakmak, Frederik Dennig\n",
    "```\n",
    "__Organize in teams of 2 people, return the exercise by Tue, Dec 10, 2019 (10:00 AM) using ILIAS (_only one Jupyter Notebook .ipyb file_)__"
   ]
  },
  {
   "cell_type": "markdown",
   "metadata": {},
   "source": [
    "---"
   ]
  },
  {
   "cell_type": "markdown",
   "metadata": {},
   "source": [
    "Assignment 05 in R - _(20 Points)_\n",
    "---------------\n",
    "- ___Please put your names and student IDs here___:\n",
    "    - _Name_, _Student ID_\n",
    "    - _Name_, _Student ID_"
   ]
  },
  {
   "cell_type": "markdown",
   "metadata": {},
   "source": [
    "---"
   ]
  },
  {
   "cell_type": "markdown",
   "metadata": {},
   "source": [
    "#### Exercise 1: Multilayer Neural Networks Training - _(4 Points)_\n",
    "\n",
    "Imagine you have the following feed-forward neural network containing 2 input neurons, 1 hidden neuron and 2 output neurons:\n",
    "\n",
    "![Network](network.png)\n",
    "\n",
    "w1 to w4 represent the weights of the connections between the neurons. Their exact values can be found in this table:\n",
    "\n",
    "|Weight|Value|\n",
    "|-----|------|\n",
    "|w1|0.4|\n",
    "|w2|-0.2|\n",
    "|w3|0.2|\n",
    "|w4|0.6|\n",
    "\n",
    "Non-input Neuron also have a Bias shown in this table:\n",
    "\n",
    "\n",
    "|Neuron|Bias|\n",
    "|-----|-----|\n",
    "|N3|0.1|\n",
    "|N4|0.1|\n",
    "|N5|-0.1|\n",
    "\n",
    "Assume a sigmoidal activation function $g(x) = 1 / (1+e^{-x})$ in each Neuron and a learning rate of $0.2$. Do not use Python for this Exercise.\n",
    "\n",
    "Calculate the Input and Output of N3, N4 and N5 if N1 gets an Input of 2 and N2 gets an input of 3.\n",
    "\n",
    "_(Hint: Input Neurons do not use the activation function. The Output of N1 and N2 are therefore the same as their respective Inputs.)_\n",
    "\n",
    "__For this exercise, please cut each result at the fifth digit after the dot. (e.g. 0.123456789 becomes 0.12345)__\n"
   ]
  },
  {
   "cell_type": "markdown",
   "metadata": {},
   "source": []
  },
  {
   "cell_type": "markdown",
   "metadata": {},
   "source": [
    "---"
   ]
  },
  {
   "cell_type": "markdown",
   "metadata": {},
   "source": [
    "#### Exercise 2: Perceptron Implementation - _(11 Points)_\n",
    "\n",
    "In this exercise, the task is to implement a Perceptron algorithm in R. Below, we give a bi-dimensional dataset and the class values.\n",
    "\n",
    "|X    |Y    |Class(OR)|Class(AND)|\n",
    "|-----|-----|---------|---------|\n",
    "| 0 | 0 | 0 | 0 |        \n",
    "| 0 | 1 | 1 | 0 |\n",
    "| 1 | 0 | 1 | 0 |\n",
    "| 1 | 1 | 1 | 1 |"
   ]
  },
  {
   "cell_type": "markdown",
   "metadata": {},
   "source": [
    "##### __(a) In your implementation of a Perceptron, create a R function `perceptron` with the following inputs:__\n",
    "* A data frame (bias, X, Y) \n",
    "* The values of the chosen class as vector \n",
    "* Number of iterations \n",
    "* Learning rate\n",
    "\n",
    "_Your function should print the weights for each iteration and data point._\n",
    "\n",
    "__Also implement a function `predict` which predicts the label of a given data item. The function should have the following inputs:__\n",
    "* The learned weights\n",
    "* The data item"
   ]
  },
  {
   "cell_type": "code",
   "execution_count": null,
   "metadata": {},
   "outputs": [],
   "source": []
  },
  {
   "cell_type": "markdown",
   "metadata": {},
   "source": [
    "##### __(b) Run your Perceptron and set an initial value for the learning rate, the weights (e.g., `<0,0,0>`) and number of iterations. Check the for the OR and AND class the correctness of the classification outputs.__"
   ]
  },
  {
   "cell_type": "code",
   "execution_count": null,
   "metadata": {},
   "outputs": [],
   "source": []
  },
  {
   "cell_type": "code",
   "execution_count": null,
   "metadata": {},
   "outputs": [],
   "source": []
  },
  {
   "cell_type": "markdown",
   "metadata": {},
   "source": [
    "##### __(c) Iterate again over the dataset by adjusting the learning rate and number of iterations. Compare the classification outputs with the previous ones. Explain your results.__"
   ]
  },
  {
   "cell_type": "markdown",
   "metadata": {},
   "source": []
  },
  {
   "cell_type": "markdown",
   "metadata": {},
   "source": [
    "##### __(d) When using your perceptron implementation, try to train a model, which classifies the XOR gate `<0,1,1,0>`. Comment on the result and try to explain why it does not work.__"
   ]
  },
  {
   "cell_type": "markdown",
   "metadata": {},
   "source": []
  },
  {
   "cell_type": "markdown",
   "metadata": {},
   "source": [
    "---"
   ]
  },
  {
   "cell_type": "markdown",
   "metadata": {},
   "source": [
    "### Exercise 3: Multilayer Perceptron - _(5 Points)_\n",
    "\n",
    "In this exercise, we will use the perceptron from `simpleNeural` to classify the iris dataset.\n"
   ]
  },
  {
   "cell_type": "code",
   "execution_count": 2,
   "metadata": {},
   "outputs": [],
   "source": [
    "if (!require('simpleNeural')) {\n",
    "    install.packages('simpleNeural')\n",
    "    library('simpleNeural')\n",
    "}"
   ]
  },
  {
   "cell_type": "markdown",
   "metadata": {},
   "source": [
    "##### __(a) Load the iris dataset and train a Multilayer Perceptron to differentiate between the flowers `setosa`  and `versicolor` (classes) of the iris dataset. Print a confuison table showing the result.__"
   ]
  },
  {
   "cell_type": "code",
   "execution_count": null,
   "metadata": {},
   "outputs": [],
   "source": []
  },
  {
   "cell_type": "markdown",
   "metadata": {},
   "source": [
    "##### __(b) Experiment with the parameters. Describe and explain your observations.__"
   ]
  },
  {
   "cell_type": "markdown",
   "metadata": {},
   "source": []
  }
 ],
 "metadata": {
  "kernelspec": {
   "display_name": "R",
   "language": "R",
   "name": "ir"
  },
  "language_info": {
   "codemirror_mode": "r",
   "file_extension": ".r",
   "mimetype": "text/x-r-source",
   "name": "R",
   "pygments_lexer": "r",
   "version": "3.6.1"
  }
 },
 "nbformat": 4,
 "nbformat_minor": 4
}
