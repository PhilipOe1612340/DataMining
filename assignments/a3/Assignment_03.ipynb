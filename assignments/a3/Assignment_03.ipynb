{
 "cells": [
  {
   "cell_type": "markdown",
   "metadata": {},
   "source": [
    "Data Mining: Basic Concepts - WS'19/20 \n",
    "---------------\n",
    "``` \n",
    "> University of Konstanz \n",
    "> Department of Computer and Information Science\n",
    "> Dr. Johannes Fuchs, Eren Cakmak, Frederik Dennig\n",
    "```\n",
    "__Organize in teams of 2 people, return the exercise by Tue, Nov 19, 2019 (10:00 AM) using ILIAS (_only one Jupyter Notebook .ipyb file_)__"
   ]
  },
  {
   "cell_type": "markdown",
   "metadata": {},
   "source": [
    "---"
   ]
  },
  {
   "cell_type": "markdown",
   "metadata": {},
   "source": [
    "Assignment 03 in R - _(20 Points)_\n",
    "---------------\n",
    "- ___Please put your names and student IDs here___:\n",
    "    - _Name_, _Student ID_\n",
    "    - _Name_, _Student ID_"
   ]
  },
  {
   "cell_type": "markdown",
   "metadata": {},
   "source": [
    "---"
   ]
  },
  {
   "cell_type": "markdown",
   "metadata": {},
   "source": [
    "#### Exercise 1: PCA - _(6 Points)_\n",
    "\n",
    "We want to apply the principal component analysis (PCA) to the following data. Continue with the following steps in order to calculate the PCA manually. Do not use any libraries for this task. You may however use any built-in function."
   ]
  },
  {
   "cell_type": "code",
   "execution_count": 43,
   "metadata": {},
   "outputs": [],
   "source": [
    "set.seed(100)\n",
    "m0 <- matrix(runif(4), nrow=2)\n",
    "m1 <- matrix(runif(400), nrow=2)\n",
    "data <- t(m0 %*% m1)"
   ]
  },
  {
   "cell_type": "markdown",
   "metadata": {},
   "source": [
    "##### __(a) Subtract the mean of the attributes__"
   ]
  },
  {
   "cell_type": "code",
   "execution_count": 150,
   "metadata": {},
   "outputs": [],
   "source": [
    "data <- data - mean(data)"
   ]
  },
  {
   "cell_type": "markdown",
   "metadata": {},
   "source": [
    "##### __(b) Compute the covariance matrix.__"
   ]
  },
  {
   "cell_type": "code",
   "execution_count": 151,
   "metadata": {},
   "outputs": [],
   "source": [
    "covar <- cov(data)"
   ]
  },
  {
   "cell_type": "markdown",
   "metadata": {},
   "source": [
    "##### __(c) Determine the eigenvalues/eigenvectors of the matrix.__"
   ]
  },
  {
   "cell_type": "code",
   "execution_count": 152,
   "metadata": {},
   "outputs": [],
   "source": [
    "eig <- eigen(matrix(covar, nrow=2))"
   ]
  },
  {
   "cell_type": "markdown",
   "metadata": {},
   "source": [
    "##### __(d) Transform the data using the eigenvectors and plot the result.__"
   ]
  },
  {
   "cell_type": "code",
   "execution_count": 153,
   "metadata": {},
   "outputs": [
    {
     "data": {
      "image/png": "[encoded data removed]",
      "text/plain": [
       "plot without title"
      ]
     },
     "metadata": {},
     "output_type": "display_data"
    },
    {
     "data": {
      "image/png": "[encoded data removed]",
      "text/plain": [
       "plot without title"
      ]
     },
     "metadata": {},
     "output_type": "display_data"
    }
   ],
   "source": [
    "pca <- data %*% eig$vectors\n",
    "plot(data, type=\"p\")\n",
    "plot(pca, type=\"p\")"
   ]
  },
  {
   "cell_type": "markdown",
   "metadata": {},
   "source": [
    "##### __(e) Name the percentage of the data variance that the first principle component already covers. (Calculate the ratio between the first eigenvalue and the sum of all eigenvalues)__"
   ]
  },
  {
   "cell_type": "code",
   "execution_count": 46,
   "metadata": {},
   "outputs": [
    {
     "data": {
      "text/plain": [
       "eigen() decomposition\n",
       "$values\n",
       "[1] 0.037533312 0.002312603\n",
       "\n",
       "$vectors\n",
       "           [,1]       [,2]\n",
       "[1,] -0.9576984  0.2877740\n",
       "[2,] -0.2877740 -0.9576984\n"
      ]
     },
     "metadata": {},
     "output_type": "display_data"
    }
   ],
   "source": []
  },
  {
   "cell_type": "markdown",
   "metadata": {},
   "source": [
    "##### __(f) Imagine you have a dataset with 4 attributes. How many Eigenvalues would you get during step c?__"
   ]
  },
  {
   "cell_type": "markdown",
   "metadata": {},
   "source": []
  },
  {
   "cell_type": "markdown",
   "metadata": {},
   "source": [
    "---"
   ]
  },
  {
   "cell_type": "markdown",
   "metadata": {},
   "source": [
    "#### Exercise 2: Linear Interpolation - _(4 Points)_\n",
    "Given the following dataset: "
   ]
  },
  {
   "cell_type": "code",
   "execution_count": 124,
   "metadata": {},
   "outputs": [
    {
     "name": "stdout",
     "output_type": "stream",
     "text": [
      "  time temperature\n",
      "1    1           3\n",
      "2    3           8\n",
      "3    5          12\n"
     ]
    }
   ],
   "source": [
    "time <- c(1, 3, 5)\n",
    "temperature <- c(3, 8, 12)\n",
    "df = data.frame(time, temperature)\n",
    "print(df)"
   ]
  },
  {
   "cell_type": "markdown",
   "metadata": {},
   "source": [
    "##### __(a) Implement a method that takes any non-existing hour of the day (x) in the dataset (e.g., x = 4) between two existing values and gives the corresponding Temperature (y). Use linear interpolation for that (see formula below).__ \n",
    "\n",
    "$ y = y_1 + (y_2 - y_1) * \\frac{x - x_1}{x_2 - x_1}$\n",
    "\n",
    "_(Hint: x and y are the values you are looking for to fill any non-existing pair of time and corresponding temperature. The other elements in the formula you should get from the existing data.)_"
   ]
  },
  {
   "cell_type": "code",
   "execution_count": 103,
   "metadata": {},
   "outputs": [
    {
     "data": {
      "text/html": [
       "10"
      ],
      "text/latex": [
       "10"
      ],
      "text/markdown": [
       "10"
      ],
      "text/plain": [
       "[1] 10"
      ]
     },
     "metadata": {},
     "output_type": "display_data"
    }
   ],
   "source": [
    "\n",
    "interpolate <- function(hour){\n",
    "    below<-tail(subset(df, time < hour),1)\n",
    "    above<-tail(subset(df, time > hour),1)\n",
    "    y1 <- below$temperature\n",
    "    y2 <- above$temperature\n",
    "    x1 <- below$time\n",
    "    x2 <- above$time\n",
    "    return (y1 + (y2 - y1) * (hour - x1) / (x2 - x1))\n",
    "}\n",
    "\n",
    "\n",
    "interpolate(4)"
   ]
  },
  {
   "cell_type": "markdown",
   "metadata": {},
   "source": [
    "##### __(b)  Use your method from (a) to interpolate and create new data points for ``x = 2`` and ``x = 4``. Visualize in a scatter plot the provided dataset and the two new data points you just created.__"
   ]
  },
  {
   "cell_type": "code",
   "execution_count": 130,
   "metadata": {},
   "outputs": [
    {
     "data": {
      "image/png": "[encoded data removed]",
      "text/plain": [
       "plot without title"
      ]
     },
     "metadata": {},
     "output_type": "display_data"
    }
   ],
   "source": [
    "df <- rbind(df, c(2, interpolate(2)))\n",
    "df <- rbind(df, c(4, interpolate(4)))\n",
    "\n",
    "plot(df)"
   ]
  },
  {
   "cell_type": "markdown",
   "metadata": {},
   "source": [
    "---"
   ]
  },
  {
   "cell_type": "markdown",
   "metadata": {},
   "source": [
    "#### Exercise 3: Decision Tree - _(6 Points)_\n",
    "You need to decide whether an incoming E-Mail is spam or not. The following attributes are stored for each E-Mail: TimeZone, GeoLocation, SuspiciousSubject, SuspiciousBody.\n",
    "\n",
    "|MsgID|TimeZone|GeoLocation|SuspiciousSubject|SuspiciousBody|Spam|\n",
    "|-----|--------|-----------|-----------------|--------------|----|\n",
    "|1|US|US|No|Yes|NoSpam|\n",
    "|2|US|US|No|No|NoSpam|\n",
    "|3|EU|US|No|Yes|Spam|\n",
    "|4|AS|EU|No|Yes|Spam|\n",
    "|5|AS|AS|Yes|Yes|Spam|\n",
    "|6|AS|AS|Yes|No|NoSpam|\n",
    "|7|EU|AS|Yes|No|Spam|\n",
    "|8|US|EU|No|Yes|NoSpam|\n",
    "|9|US|AS|Yes|Yes|Spam|\n",
    "|10|AS|EU|Yes|Yes|Spam|\n",
    "|11|US|EU|Yes|No|Spam|\n",
    "|12|EU|EU|No|No|Spam|\n",
    "|13|EU|US|Yes|Yes|Spam|\n",
    "|14|AS|EU|No|No|NoSpam|"
   ]
  },
  {
   "cell_type": "markdown",
   "metadata": {},
   "source": [
    "##### __Construct a decision tree based on the data of Table 2 by hand. Use the Information Gain as impurity measure. Multiple splits are allowed. If all records in one leave share the same class label, your tree has to terminate.__\n",
    "__Comment on the steps you performed to create the de-cision tree. Show the results of your calculations and draw plot the final decision tree using.__ \n",
    "\n",
    "_(Hint: you can use the ``![](imagename.png)`` to include a image in a markdown cell. Use this to include the created or handdrawn plot of the decision tree. Do not forget to also upload the image in your final submission.)_"
   ]
  },
  {
   "cell_type": "markdown",
   "metadata": {},
   "source": []
  },
  {
   "cell_type": "markdown",
   "metadata": {},
   "source": [
    "---"
   ]
  },
  {
   "cell_type": "markdown",
   "metadata": {},
   "source": [
    "#### Exercise 4: Decision Tree in Python - _(4 Points)_\n",
    "In this task we will train and display a decision tree for the ``iris.csv``data in Python. Only use the already imported packages for the each task. \n",
    "\n",
    "The classes of the flowers are mapped to numbers as follows: ``Iris-Setosa = 0``, ``Iris-Versicolour = 1``, ``Iris-Virginica = 2``"
   ]
  },
  {
   "cell_type": "code",
   "execution_count": 143,
   "metadata": {},
   "outputs": [],
   "source": [
    "# Run here. In case of problems accessing the library functionalities, also try running the commands in the R console.\n",
    "if (!require('RWeka')) {\n",
    "    install.packages('RWeka')\n",
    "    library('RWeka')\n",
    "}\n",
    "if (!require('partykit')) {\n",
    "    install.packages('partykit')\n",
    "    library('partykit')\n",
    "}\n",
    "\n",
    "iris <- read.csv('iris.csv')"
   ]
  },
  {
   "cell_type": "markdown",
   "metadata": {},
   "source": [
    "##### __(a) Create a decision tree using the information gain and train the decision tree with the iris data. Use the ``species`` column as the target variable__ "
   ]
  },
  {
   "cell_type": "code",
   "execution_count": 149,
   "metadata": {},
   "outputs": [
    {
     "data": {
      "image/png": "[encoded data removed]",
      "text/plain": [
       "plot without title"
      ]
     },
     "metadata": {},
     "output_type": "display_data"
    }
   ],
   "source": [
    "require('RWeka')\n",
    "\n",
    "tree <- J48(species ~ ., data = iris)\n",
    "plot(tree)"
   ]
  },
  {
   "cell_type": "markdown",
   "metadata": {},
   "source": [
    "##### __(b) Display the decision tree from (a). Explain the result in the following markdown cell.__ _(Hint: use the ``plot()`` function)_"
   ]
  },
  {
   "cell_type": "code",
   "execution_count": null,
   "metadata": {},
   "outputs": [],
   "source": []
  },
  {
   "cell_type": "markdown",
   "metadata": {},
   "source": []
  },
  {
   "cell_type": "markdown",
   "metadata": {},
   "source": [
    "---"
   ]
  }
 ],
 "metadata": {
  "kernelspec": {
   "display_name": "R",
   "language": "R",
   "name": "ir"
  },
  "language_info": {
   "codemirror_mode": "r",
   "file_extension": ".r",
   "mimetype": "text/x-r-source",
   "name": "R",
   "pygments_lexer": "r",
   "version": "3.6.1"
  }
 },
 "nbformat": 4,
 "nbformat_minor": 4
}
