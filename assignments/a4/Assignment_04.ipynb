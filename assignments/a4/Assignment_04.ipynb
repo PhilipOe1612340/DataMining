{
 "cells": [
  {
   "cell_type": "markdown",
   "metadata": {},
   "source": [
    "Data Mining: Basic Concepts - WS'19/20 \n",
    "---------------\n",
    "``` \n",
    "> University of Konstanz \n",
    "> Department of Computer and Information Science\n",
    "> Dr. Johannes Fuchs, Eren Cakmak, Frederik Dennig\n",
    "```\n",
    "__Organize in teams of 2 people, return the exercise by Tue, Nov 26, 2019 (10:00 AM) using ILIAS (_only one Jupyter Notebook .ipyb file_)__"
   ]
  },
  {
   "cell_type": "markdown",
   "metadata": {},
   "source": [
    "---"
   ]
  },
  {
   "cell_type": "markdown",
   "metadata": {},
   "source": [
    "Assignment 04 in R - _(20 Points)_\n",
    "---------------\n",
    "- ___Please put your names and student IDs here___:\n",
    "    - _Name_, _Student ID_\n",
    "    - _Name_, _Student ID_"
   ]
  },
  {
   "cell_type": "markdown",
   "metadata": {},
   "source": [
    "---"
   ]
  },
  {
   "cell_type": "markdown",
   "metadata": {},
   "source": [
    "#### Exercise 1: Naïve Bayes Classification - _(8 Points)_\n",
    "\n",
    "|MsgID|TimeZone|GeoLocation|SuspiciousSubject|SuspiciousBody|Spam|\n",
    "|-----|--------|-----------|-----------------|--------------|----|\n",
    "|1|US|US|No|Yes|No|\n",
    "|2|US|US|No|No|No|\n",
    "|3|EU|US|No|Yes|Yes|\n",
    "|4|AS|EU|No|Yes|Yes|\n",
    "|5|AS|AS|Yes|Yes|Yes|\n",
    "|6|AS|AS|Yes|No|No|\n",
    "|7|EU|AS|Yes|No|Yes|\n",
    "|8|US|EU|No|Yes|No|\n",
    "|9|US|AS|Yes|Yes|Yes|\n",
    "|10|AS|EU|Yes|Yes|Yes|\n",
    "|11|US|EU|Yes|No|Yes|\n",
    "|12|EU|EU|No|No|Yes|\n",
    "|13|EU|US|Yes|Yes|Yes|\n",
    "|14|AS|EU|No|No|No|\n",
    "\n",
    "* EU = Europe; US = United States; AS = Asia"
   ]
  },
  {
   "cell_type": "markdown",
   "metadata": {},
   "source": [
    "##### __(a) According to the lecture slides, a Naïve Bayes Classifier assumes class conditional independence. Explain what this means and why that might be a problem__"
   ]
  },
  {
   "cell_type": "markdown",
   "metadata": {},
   "source": [
    "This means that the atributes are not related to each other. This is a problem, because most problems are not caused by a single atribute, but by a multitude of interconnected factors."
   ]
  },
  {
   "cell_type": "markdown",
   "metadata": {},
   "source": [
    "##### __(b) Calculate all conditional probabilities of a  Naïve Bayes Classifier with the given data by hand.__"
   ]
  },
  {
   "cell_type": "markdown",
   "metadata": {},
   "source": []
  },
  {
   "cell_type": "markdown",
   "metadata": {},
   "source": [
    "##### __(c)\tCalculate the posterior probabilities and classify the following three E-Mails by means of the trained classifier:__\n",
    "    a. E-mail A = (US, US, Yes, Yes)\n",
    "    b. E-mail B = (Asia, Asia, No, No)\n",
    "    c. E-mail C = (EU, Asia, No, Yes)\n"
   ]
  },
  {
   "cell_type": "markdown",
   "metadata": {},
   "source": []
  },
  {
   "cell_type": "markdown",
   "metadata": {},
   "source": [
    "##### __(d) The output of a naïve bayes classifier includes the assigned class as well as the probability that the assignment is correct. Give one reason why this could be an advantage over classifiers that only return the assigned class but no probability.__"
   ]
  },
  {
   "cell_type": "markdown",
   "metadata": {},
   "source": []
  },
  {
   "cell_type": "markdown",
   "metadata": {},
   "source": [
    "---"
   ]
  },
  {
   "cell_type": "markdown",
   "metadata": {},
   "source": [
    "#### Exercise 2: Pruning Decision Trees  - _(8 Points)_"
   ]
  },
  {
   "cell_type": "markdown",
   "metadata": {},
   "source": [
    "__We will investigate the “diabetes.csv” dataset. Read the “description.txt” to understand the individual columns. Use the already imported libraries for this exercise.__"
   ]
  },
  {
   "cell_type": "code",
   "execution_count": 2,
   "metadata": {},
   "outputs": [
    {
     "name": "stderr",
     "output_type": "stream",
     "text": [
      "Loading required package: caTools\n",
      "Loading required package: rpart\n",
      "Loading required package: rpart.plot\n"
     ]
    }
   ],
   "source": [
    "# Run here. In case of problems accessing the library functionalities, also try running the commands in the R console.\n",
    "if (!require('caTools')) {\n",
    "    install.packages('caTools')\n",
    "    library('caTools')\n",
    "}\n",
    "if (!require('rpart')) {\n",
    "    install.packages('rpart')\n",
    "    library('rpart')\n",
    "}\n",
    "if (!require('rpart.plot')) {\n",
    "    install.packages('rpart.plot')\n",
    "    library('rpart.plot')\n",
    "}"
   ]
  },
  {
   "cell_type": "markdown",
   "metadata": {},
   "source": [
    "##### __(a) Load the dataset and use a sampling method to split the dataset into a training (80% rows) and test (20% rows) dataset. The target column is the last column.__\n",
    "_(Hint: use the `sample.split` from the `caTools` library and use the output to create subsets with the `subset` function)_"
   ]
  },
  {
   "cell_type": "code",
   "execution_count": 3,
   "metadata": {},
   "outputs": [
    {
     "data": {
      "text/html": [
       "4.32638888888889"
      ],
      "text/latex": [
       "4.32638888888889"
      ],
      "text/markdown": [
       "4.32638888888889"
      ],
      "text/plain": [
       "[1] 4.326389"
      ]
     },
     "metadata": {},
     "output_type": "display_data"
    }
   ],
   "source": [
    "data = read.csv('diabetes.csv')\n",
    "names(data) <- c('pregnant', 'plasma', 'pressure', 'thiccness', 'insulin', 'bmi', 'pedigree', 'age', 'class')\n",
    "\n",
    "use = sample.split(t(data), 0.8)\n",
    "\n",
    "train = na.omit(data[use == TRUE, ])\n",
    "test = na.omit(data[use == FALSE, ])\n",
    "\n",
    "ncol(t(train))/ncol(t(test))"
   ]
  },
  {
   "cell_type": "markdown",
   "metadata": {},
   "source": [
    "##### __(b) Use the training dataset to train a decision tree. Set following parameters for the `rpart` function: `minsplit=1` and `cp=0`.  Plot the tree.__\n",
    "_(Hint: use `rpart` and `rpart.plot`. Warnings about overplotting are fine.)_"
   ]
  },
  {
   "cell_type": "code",
   "execution_count": 4,
   "metadata": {},
   "outputs": [
    {
     "name": "stderr",
     "output_type": "stream",
     "text": [
      "Warning message:\n",
      "\"labs do not fit even at cex 0.15, there may be some overplotting\""
     ]
    },
    {
     "data": {
      "image/png": "[encoded data removed]",
      "text/plain": [
       "plot without title"
      ]
     },
     "metadata": {},
     "output_type": "display_data"
    }
   ],
   "source": [
    "model = rpart(class ~ pregnant + plasma + pressure + thiccness + insulin + bmi + pedigree + age, train, minsplit=1, cp=0, method=\"class\")\n",
    "rpart.plot(model)"
   ]
  },
  {
   "cell_type": "markdown",
   "metadata": {},
   "source": [
    "##### __(c)\tMeasure the accuracy of the decision tree on the training and test dataset. The accuracy is one metric for evaluating classification models. `Accuracy = (number of correct predictions) / (total number of predictions)`.__ "
   ]
  },
  {
   "cell_type": "code",
   "execution_count": 14,
   "metadata": {},
   "outputs": [
    {
     "name": "stdout",
     "output_type": "stream",
     "text": [
      "[1] \"68.75 % correct\"\n"
     ]
    }
   ],
   "source": [
    "pred = rpart.predict(model, test, type = \"class\")\n",
    "res = pred == test$class\n",
    "\n",
    "accuracy = length(res[res == TRUE])/nrow(test)*100\n",
    "print(paste(accuracy, '% correct'))"
   ]
  },
  {
   "cell_type": "markdown",
   "metadata": {},
   "source": [
    "##### __(d) Use prepruning and train a new decision tree. Use the `maxdepth=7` parameter for `rpart` and do not add those from (b). Plot the pruned decision tree.__"
   ]
  },
  {
   "cell_type": "code",
   "execution_count": 6,
   "metadata": {},
   "outputs": [
    {
     "data": {
      "image/png": "[encoded data removed]",
      "text/plain": [
       "plot without title"
      ]
     },
     "metadata": {},
     "output_type": "display_data"
    }
   ],
   "source": [
    "model2 = rpart(class ~ pregnant + plasma + pressure + thiccness + insulin + bmi + pedigree + age,  train, method=\"class\", maxdepth=7)\n",
    "rpart.plot(model2)"
   ]
  },
  {
   "cell_type": "markdown",
   "metadata": {},
   "source": [
    "##### __(e) Measure the accuracy of the pruned decision tree on the training and test dataset.__"
   ]
  },
  {
   "cell_type": "code",
   "execution_count": 13,
   "metadata": {},
   "outputs": [
    {
     "name": "stdout",
     "output_type": "stream",
     "text": [
      "[1] \"85.2327447833066 % correct\"\n"
     ]
    }
   ],
   "source": [
    "pred = rpart.predict(model2, test, type = \"class\")\n",
    "res = pred == test$class\n",
    "\n",
    "accuracy = length(res[res == TRUE])/nrow(test)*100\n",
    "print(paste(accuracy, '% correct'))"
   ]
  },
  {
   "cell_type": "markdown",
   "metadata": {},
   "source": [
    "##### __(f) Explain and discuss the results from c) and e).__"
   ]
  },
  {
   "cell_type": "markdown",
   "metadata": {},
   "source": [
    "The pruned tree is less overfit, since it is forced to model the data with less complexity than the tree before. Therfore can only manage to be 85% correct on the original training data compared to 100% of the unpruned tree. However, this results in a better prediction for data that was not in the training set. That explains why the results are better even though there are less nodes. "
   ]
  },
  {
   "cell_type": "markdown",
   "metadata": {},
   "source": [
    "---"
   ]
  },
  {
   "cell_type": "markdown",
   "metadata": {},
   "source": [
    "#### Exercise 3: Naïve Bayes Classification - _(4 Points)_"
   ]
  },
  {
   "cell_type": "markdown",
   "metadata": {},
   "source": [
    "__In this exercise we will use the Naïve Bayes classification methods on a real data set. We will classify the digits dataset (see https://archive.ics.uci.edu/ml/datasets/Optical+Recognition+of+Handwritten+Digits)__"
   ]
  },
  {
   "cell_type": "code",
   "execution_count": 96,
   "metadata": {},
   "outputs": [],
   "source": [
    "if (!require('pheatmap')) {\n",
    "    install.packages('pheatmap')\n",
    "    library('pheatmap')\n",
    "}\n",
    "if (!require('e1071')) {\n",
    "    install.packages('e1071')\n",
    "    library('e1071')\n",
    "}"
   ]
  },
  {
   "cell_type": "code",
   "execution_count": 97,
   "metadata": {},
   "outputs": [
    {
     "name": "stdout",
     "output_type": "stream",
     "text": [
      "  V1 V2 V3 V4 V5 V6 V7 V8 V9 V10 V11 V12 V13 V14 V15 V16 V17 V18 V19 V20 V21\n",
      "1  0  1  6 15 12  1  0  0  0   7  16   6   6  10   0   0   0   8  16   2   0\n",
      "2  0  0 10 16  6  0  0  0  0   7  16   8  16   5   0   0   0  11  16   0   6\n",
      "3  0  0  8 15 16 13  0  0  0   1  11   9  11  16   1   0   0   0   0   0   7\n",
      "4  0  0  0  3 11 16  0  0  0   0   5  16  11  13   7   0   0   3  15   8   1\n",
      "5  0  0  5 14  4  0  0  0  0   0  13   8   0   0   0   0   0   3  14   4   0\n",
      "6  0  0 11 16 10  1  0  0  0   4  16  10  15   8   0   0   0   4  16   3  11\n",
      "  V22 V23 V24 V25 V26 V27 V28 V29 V30 V31 V32 V33 V34 V35 V36 V37 V38 V39 V40\n",
      "1  11   2   0   0   5  16   3   0   5   7   0   0   7  13   3   0   8   7   0\n",
      "2  14   3   0   0  12  12   0   0  11  11   0   0  12  12   0   0   8  12   0\n",
      "3  14   0   0   0   0   3   4  14  12   2   0   0   1  16  16  16  16  10   0\n",
      "4  15   6   0   0  11  16  16  16  16  10   0   0   1   4   4  13  10   2   0\n",
      "5   0   0   0   0   6  16  14   9   2   0   0   0   4  16   3   4  11   2   0\n",
      "6  13   0   0   0   1  14   6   9  14   0   0   0   0   0   0  12  10   0   0\n",
      "  V41 V42 V43 V44 V45 V46 V47 V48 V49 V50 V51 V52 V53 V54 V55 V56 V57 V58 V59\n",
      "1   0   4  12   0   1  13   5   0   0   0  14   9  15   9   0   0   0   0   6\n",
      "2   0   7  15   1   0  13  11   0   0   0  16   8  10  15   3   0   0   0  10\n",
      "3   0   2  12  16  10   0   0   0   0   0   2  16   4   0   0   0   0   0   9\n",
      "4   0   0   0   0  15   4   0   0   0   0   0   3  16   0   0   0   0   0   0\n",
      "5   0   0  14   3   0   4  11   0   0   0  10   8   4  11  12   0   0   0   4\n",
      "6   0   0   0   6  16   6   0   0   0   0   5  15  15   8   8   3   0   0  10\n",
      "  V60 V61 V62 V63 V64 V65\n",
      "1  14   7   1   0   0   0\n",
      "2  16  15   3   0   0   0\n",
      "3  14   0   0   0   0   7\n",
      "4   1  15   2   0   0   4\n",
      "5  12  14   7   0   0   6\n",
      "6  16  16  16  16   6   2\n"
     ]
    }
   ],
   "source": [
    "digits <- read.csv('digits.csv', header=FALSE)\n",
    "print(head(digits))"
   ]
  },
  {
   "cell_type": "code",
   "execution_count": 98,
   "metadata": {},
   "outputs": [
    {
     "data": {
      "image/png": "[encoded data removed]",
      "text/plain": [
       "plot without title"
      ]
     },
     "metadata": {
      "image/png": {
       "height": 420,
       "width": 420
      },
      "text/plain": {
       "height": 420,
       "width": 420
      }
     },
     "output_type": "display_data"
    }
   ],
   "source": [
    "m <- matrix(as.numeric(digits[1,1:64]), nrow=8, ncol=8, byrow=TRUE)\n",
    "pheatmap(m, cluster_row = FALSE, cluster_col = FALSE, color=gray.colors(16,start=0,end=1))"
   ]
  },
  {
   "cell_type": "markdown",
   "metadata": {},
   "source": [
    "##### __(a) Split the dataset into a training (80% rows) and test (20% rows) data. The last column contains the label.__\n",
    "_(Hint: use the `sample.split` from the `caTools` library and use the output to create subsets with the `subset` function)_"
   ]
  },
  {
   "cell_type": "code",
   "execution_count": 99,
   "metadata": {},
   "outputs": [],
   "source": []
  },
  {
   "cell_type": "markdown",
   "metadata": {},
   "source": [
    "##### __(b) Generate a model and fit the dataset on the classifier.__ \n",
    "_(Hint: use already implemented version in `naiveBayes` form the `e1071` library)_"
   ]
  },
  {
   "cell_type": "code",
   "execution_count": 100,
   "metadata": {},
   "outputs": [],
   "source": []
  },
  {
   "cell_type": "markdown",
   "metadata": {},
   "source": [
    "##### __(c) Compute the accuracy on the train and test data using the trained model.__ \n",
    "_(Hint: use the `predict` function)_"
   ]
  },
  {
   "cell_type": "code",
   "execution_count": null,
   "metadata": {},
   "outputs": [],
   "source": []
  }
 ],
 "metadata": {
  "kernelspec": {
   "display_name": "R",
   "language": "R",
   "name": "ir"
  },
  "language_info": {
   "codemirror_mode": "r",
   "file_extension": ".r",
   "mimetype": "text/x-r-source",
   "name": "R",
   "pygments_lexer": "r",
   "version": "3.6.1"
  }
 },
 "nbformat": 4,
 "nbformat_minor": 4
}
