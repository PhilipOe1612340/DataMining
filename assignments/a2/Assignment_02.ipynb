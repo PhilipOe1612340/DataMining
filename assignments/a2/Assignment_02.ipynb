{
 "cells": [
  {
   "cell_type": "markdown",
   "metadata": {},
   "source": [
    "Data Mining: Basic Concepts - WS'19/20 \n",
    "---------------\n",
    "``` \n",
    "> University of Konstanz \n",
    "> Department of Computer and Information Science\n",
    "> Dr. Johannes Fuchs, Eren Cakmak, Frederik Dennig\n",
    "```\n",
    "__Organize in teams of 2 people, return the exercise by Tue, Nov 12th, 2019 (10:00 AM) using ILIAS (only one Jupyter Notebook .ipyb file)__"
   ]
  },
  {
   "cell_type": "markdown",
   "metadata": {},
   "source": [
    "---"
   ]
  },
  {
   "cell_type": "markdown",
   "metadata": {},
   "source": [
    "Assignment 02 in R - _(20 Points)_\n",
    "---------------\n",
    "- ___Please put your names and student IDs here___:\n",
    "    - Tobias Stähle, 987228\n",
    "    - Philip Oesterlin, 993546"
   ]
  },
  {
   "cell_type": "markdown",
   "metadata": {},
   "source": [
    "---"
   ]
  },
  {
   "cell_type": "markdown",
   "metadata": {},
   "source": [
    "#### Exercise 1: Data Types - _(3 Points)_\n",
    "Imagine you have the following dataset:\n",
    "\n",
    "| Name \t| Gender   \t| Economic status  \t| Education        \t|Annual income \t|\n",
    "|------\t|----------\t|------------------\t|------------------\t|--------------\t|\n",
    "|Bob   \t|Male      \t| Low              \t|  High School     \t| 34 000       \t|\n",
    "|Alice \t|Female    \t| Medium           \t|  Master          \t| 42 000       \t|\n",
    "|Lisa  \t|Female    \t| High             \t|  Bachelor        \t| 58 000       \t|"
   ]
  },
  {
   "cell_type": "markdown",
   "metadata": {},
   "source": [
    "##### __(a) Describe for each column whether it contains nominal, ordinal or numerical data and explain why you made that decision__"
   ]
  },
  {
   "cell_type": "markdown",
   "metadata": {},
   "source": [
    "Name: nominal -> Names can just be classes, you can only compare if a name is \n",
    "                    equal to another one or not.\n",
    "                    \n",
    "Gender: nominal -> gender can just be classes, you can only compare if a gender is \n",
    "                    equal to another gender or not\n",
    "                    \n",
    "Economic staus: ordinal -> You can compare the economic status of two items/rows \n",
    "                by only saying it is \"smaller\"/\"greater\"/\"equal\"/\"greater-equal\"\n",
    "                /\"lower-equal\" than/to the other one. Math operations like \n",
    "                difference or multiplication are not possible\n",
    "                \n",
    "education: nominal/ ordinal -> depending on how you lateron will use the data, the data can be nominal or ordinal. It would be nominal in case you use the different classes like \"High School\", \"Master\" and \"Bachelor\" just as labels to categorize the poeple into classes. If you use the given type of Education as a ranking of academic level of a person, it would be ordinal. For example you could rank the given people by their academic level in following ranking: \"High School\" < \"Bachelor\" < \"Master\".\n",
    "\n",
    "annual income: numeric -> The annual income is a number and math operations like \n",
    "                            multiplication with a factor, difference between two \n",
    "                            values of annual income etc. can be performed"
   ]
  },
  {
   "cell_type": "markdown",
   "metadata": {},
   "source": [
    "##### __(b) Give at least one mathematical operation that can be used on all three data types__"
   ]
  },
  {
   "cell_type": "markdown",
   "metadata": {},
   "source": [
    "Test if two elements are equal \"=\" or not equal \"!=\""
   ]
  },
  {
   "cell_type": "markdown",
   "metadata": {},
   "source": [
    "---"
   ]
  },
  {
   "cell_type": "markdown",
   "metadata": {},
   "source": [
    "#### Exercise 2: Missing Values - _(8 Points)_ "
   ]
  },
  {
   "cell_type": "markdown",
   "metadata": {},
   "source": [
    "##### __(a) Import the dataset ``data_exercise2.csv`` and print the data.__ _(Hint: notice the missing values)_"
   ]
  },
  {
   "cell_type": "code",
   "execution_count": 2,
   "metadata": {},
   "outputs": [
    {
     "name": "stdout",
     "output_type": "stream",
     "text": [
      "     x     y\n",
      "1  0.0 3.201\n",
      "2  0.2 4.568\n",
      "3  0.4 5.704\n",
      "4  0.6 6.456\n",
      "5  0.8 6.872\n",
      "6  1.0 7.000\n",
      "7  1.2 6.888\n",
      "8  1.4 6.584\n",
      "9  1.6 6.136\n",
      "10 1.8 5.892\n",
      "11 2.0 5.000\n",
      "12 2.2 4.308\n",
      "13 2.4    NA\n",
      "14 2.6    NA\n",
      "15 2.8 3.112\n",
      "16 3.0 3.000\n",
      "17 3.2 3.128\n",
      "18 3.4 3.544\n",
      "19 3.6 4.296\n",
      "20 3.8 5.332\n",
      "21 4.0 7.100\n"
     ]
    }
   ],
   "source": [
    "data = read.csv(\"data_exercise2.csv\")\n",
    "print(data)"
   ]
  },
  {
   "cell_type": "markdown",
   "metadata": {},
   "source": [
    "##### __(b) Fill in the missing values using the attribute mean. Plot the result using the ``plot`` function.__"
   ]
  },
  {
   "cell_type": "code",
   "execution_count": 3,
   "metadata": {},
   "outputs": [
    {
     "data": {
      "image/png": "[encoded data removed]",
      "text/plain": [
       "plot without title"
      ]
     },
     "metadata": {},
     "output_type": "display_data"
    }
   ],
   "source": [
    "mean_of_data = mean(data$y,na.rm = TRUE)\n",
    "data$y[is.na(data$y)] = mean_of_data\n",
    "data_filled_with_mean =  data\n",
    "plot(data_filled_with_mean)"
   ]
  },
  {
   "cell_type": "markdown",
   "metadata": {},
   "source": [
    "##### __(c) Instead of filling the missing values with the mean, we will now try to fill them using regression.__\n",
    "##### __What polynomial degree does the function you are looking for most likely have?__ _(Hint: Use the ``lm``, ``poly`` and `predict.lm` functions to create the regession model and use the ``lines`` function to plot it)_"
   ]
  },
  {
   "cell_type": "markdown",
   "metadata": {},
   "source": [
    "This function looks like a function with a degree of 3 or higher. To avoid overfitting it's searched for a function with degree of 3."
   ]
  },
  {
   "cell_type": "code",
   "execution_count": 20,
   "metadata": {},
   "outputs": [
    {
     "data": {
      "image/png": "[encoded data removed]",
      "text/plain": [
       "plot without title"
      ]
     },
     "metadata": {},
     "output_type": "display_data"
    }
   ],
   "source": [
    "#Plot the regression model!!!!!!!!!!!!!!\n",
    "data = read.csv(\"data_exercise2.csv\")\n",
    "data_removedNA = na.omit(data)\n",
    "fm = lm(data_removedNA$y ~ poly(data_removedNA$x,3, raw=TRUE))\n",
    "plot(data_removedNA)\n",
    "\n",
    "\n",
    "lines(data_removedNA$x,predict(fm))"
   ]
  },
  {
   "cell_type": "markdown",
   "metadata": {},
   "source": [
    "##### __(d) Compute the coefficients for the function that describes the data.__"
   ]
  },
  {
   "cell_type": "code",
   "execution_count": 21,
   "metadata": {},
   "outputs": [
    {
     "name": "stdout",
     "output_type": "stream",
     "text": [
      "[1] \"0.994981123090289 x³ +  -5.96214828608982 x² +  8.9073291225782 x + 3.08270611603446\"\n"
     ]
    },
    {
     "data": {
      "text/plain": [
       "\n",
       "Call:\n",
       "lm(formula = data_removedNA$y ~ poly(data_removedNA$x, 3, raw = TRUE))\n",
       "\n",
       "Residuals:\n",
       "      Min        1Q    Median        3Q       Max \n",
       "-0.108591 -0.034935 -0.010776 -0.008275  0.290732 \n",
       "\n",
       "Coefficients:\n",
       "                                       Estimate Std. Error t value Pr(>|t|)    \n",
       "(Intercept)                             3.08271    0.07191   42.87   <2e-16 ***\n",
       "poly(data_removedNA$x, 3, raw = TRUE)1  8.90733    0.16091   55.35   <2e-16 ***\n",
       "poly(data_removedNA$x, 3, raw = TRUE)2 -5.96215    0.09687  -61.55   <2e-16 ***\n",
       "poly(data_removedNA$x, 3, raw = TRUE)3  0.99498    0.01615   61.60   <2e-16 ***\n",
       "---\n",
       "Signif. codes:  0 '***' 0.001 '**' 0.01 '*' 0.05 '.' 0.1 ' ' 1\n",
       "\n",
       "Residual standard error: 0.09743 on 15 degrees of freedom\n",
       "Multiple R-squared:  0.9964,\tAdjusted R-squared:  0.9957 \n",
       "F-statistic:  1395 on 3 and 15 DF,  p-value: < 2.2e-16\n"
      ]
     },
     "metadata": {},
     "output_type": "display_data"
    }
   ],
   "source": [
    "coef <- fm$coefficients\n",
    "\n",
    "print(paste(coef[4], 'x³ + ',coef[3], 'x² + ',coef[2], 'x +',coef[1],collapse=''))\n",
    "summary(fm)"
   ]
  },
  {
   "cell_type": "markdown",
   "metadata": {},
   "source": [
    "##### __(e) Use the computed polynomial coefficients to implement a regression method. Use the method to fill the missing values in the dataframe with values.__"
   ]
  },
  {
   "cell_type": "code",
   "execution_count": 6,
   "metadata": {},
   "outputs": [],
   "source": [
    "calcY = function(X_es) {\n",
    "  Y_ex = 3.08271+0.99498*X_es^3-5.96215*X_es*X_es+8.90733*X_es\n",
    "  return(Y_ex)\n",
    "}"
   ]
  },
  {
   "cell_type": "code",
   "execution_count": 8,
   "metadata": {},
   "outputs": [],
   "source": [
    "data$y[is.na(data$y)] = calcY(data$x[is.na(data$y)])"
   ]
  },
  {
   "cell_type": "code",
   "execution_count": null,
   "metadata": {},
   "outputs": [],
   "source": []
  },
  {
   "cell_type": "markdown",
   "metadata": {},
   "source": [
    "##### __(f) Plot your both result (mean and polynomial regression) and compare the results. Explain which values you think fit the data better and why.__"
   ]
  },
  {
   "cell_type": "code",
   "execution_count": 19,
   "metadata": {},
   "outputs": [
    {
     "data": {
      "image/png": "[encoded data removed]",
      "text/plain": [
       "Plot with title \"Missing data filled by mean\""
      ]
     },
     "metadata": {},
     "output_type": "display_data"
    },
    {
     "data": {
      "image/png": "[encoded data removed]",
      "text/plain": [
       "Plot with title \"Missing data filled by regression\""
      ]
     },
     "metadata": {},
     "output_type": "display_data"
    },
    {
     "data": {
      "image/png": "[encoded data removed]",
      "text/plain": [
       "Plot with title \"Comparisson of both methods\""
      ]
     },
     "metadata": {},
     "output_type": "display_data"
    }
   ],
   "source": [
    "plot(data_filled_with_mean,main=\"Missing data filled by mean\")\n",
    "plot(data,main=\"Missing data filled by regression\")\n",
    "\n",
    "plot(rbind(data_filled_with_mean, data), main=\"Comparisson of both methods\") \n",
    "lines(data_filled_with_mean,col=\"green\")\n",
    "lines(data,col=\"red\")\n",
    "\n",
    "legend(0.5, 4, legend=c(\"mean\", \"regression\"), col=c(\"green\", \"red\"), lty=c(1, 1))"
   ]
  },
  {
   "cell_type": "markdown",
   "metadata": {},
   "source": [
    "Using the mean as values for the missing values leads to an \"outbreak\" of the shape of the data. You can think of the other data points that were given, they discribe kind of a function. Out of this function the mean values do not fit into the continuity of the shape of the given function. Using a regression model of a function with degree of 3 models a function that fits very well into the given data (see part 'c)' ). If regression is used to calculate and fill the missing values as in part 'e)' you don't have such high \"outbrakers\". Last mentioned method keeps the shape and trend of the function given by the given data points.\n",
    "\n",
    "Reconstruction using mean values has produces an obvious, unnatural bump. Regression is the better choice."
   ]
  },
  {
   "cell_type": "markdown",
   "metadata": {},
   "source": [
    "---"
   ]
  },
  {
   "cell_type": "markdown",
   "metadata": {},
   "source": [
    "#### Exercise 3: Binning - _(3 Points)_ \n",
    "The following data consists of the age of several people: \n",
    "```\n",
    "> [13, 15, 16, 17, 19, 20, 21, 21, 22, 22, 25, 25, 26, 26, 30, 33, 33, 35, 35, 35, 35, 36, 40, 42, 46, 53, 70]\n",
    "```"
   ]
  },
  {
   "cell_type": "markdown",
   "metadata": {},
   "source": [
    "##### __(a) Apply binning to the dataset using 3 equal-width bins. Smooth the data using the mean of the bins. Explain the steps of your approach and give the final result.__\n",
    "##### __Please solve this exercise by hand without using R.__ "
   ]
  },
  {
   "cell_type": "markdown",
   "metadata": {},
   "source": [
    "min value = 13<br>\n",
    "max value = 70<br>\n",
    "width = (70 - 13) / 3 = 19<br>\n",
    "\n",
    "bin1: 13 - 32 = [13, 15, 16, 17, 19, 20, 21, 21, 22, 22, 25, 25, 26, 26, 30] <br>\n",
    "bin2: 32 - 51 = [33, 33, 35, 35, 35, 35, 36, 40, 42, 46]<br>\n",
    "bin3: 51 - 90 = [53, 70]<br>\n",
    "\n",
    "Smoothing by mean values:<br>\n",
    "bin1: [21.2, 21.2, 21.2, 21.2, 21.2, 21.2, 21.2, 21.2, 21.2, 21.2, 21.2, 21.2, 21.2, 21.2, 21.2] if only using integers mean would be 21<br>\n",
    "bin2: [37, 37, 37, 37, 37, 37, 37, 37, 37, 37]<br>\n",
    "bin3: [61.5, 61.5] if only using integers mean would be 62<br>"
   ]
  },
  {
   "cell_type": "markdown",
   "metadata": {},
   "source": [
    "##### __(b) Apply binning to the dataset using 3 equal-depth bins. Smooth the data using the mean of the bins. Explain the steps of your approach and give the final result.__\n",
    "##### __Please solve this exercise by hand without using R.__ "
   ]
  },
  {
   "cell_type": "markdown",
   "metadata": {},
   "source": [
    "number of values = 27<br>\n",
    "bin depth = 27 / 3 = 9<br>\n",
    "\n",
    "bin1 = [13, 15, 16, 17, 19, 20, 21, 21, 22]<br>\n",
    "bin2 = [22, 25, 25, 26, 26, 30, 33, 33, 35]<br>\n",
    "bin3 = [35, 35, 35, 36, 40, 42, 46, 53, 70]<br>\n",
    "\n",
    "Smoothing by mean values:<br>\n",
    "bin1 = [18.2, 18.2, 18.2, 18.2, 18.2, 18.2, 18.2, 18.2, 18.2]  if only using integers mean would be 18<br>\n",
    "bin2 = [28.3, 28.3, 28.3, 28.3, 28.3, 28.3, 28.3, 28.3, 28.3]  if only using integers mean would be 28<br>\n",
    "bin3 = [43.5, 43.5, 43.5, 43.5, 43.5, 43.5, 43.5, 43.5, 43.5]  if only using integers mean would be 44"
   ]
  },
  {
   "cell_type": "markdown",
   "metadata": {},
   "source": [
    "##### __(c) Compare the results from a) and b). Give one reason why equal-depth binning might be preferable in this scenario.__"
   ]
  },
  {
   "cell_type": "markdown",
   "metadata": {},
   "source": [
    "Because of the outliers, the equal-width bins are spread out over a large range. The equal depth binning method creates a better grouping."
   ]
  },
  {
   "cell_type": "markdown",
   "metadata": {},
   "source": [
    "---"
   ]
  },
  {
   "cell_type": "markdown",
   "metadata": {},
   "source": [
    "#### Exercise 4: Normalization - _(6 Points)_ "
   ]
  },
  {
   "cell_type": "markdown",
   "metadata": {},
   "source": [
    "##### __(a) Which of the columns in the following table can be normalized using the linear or logarithmic min-max normalization? Discuss if the normalization is useful or not.__\n",
    "\n",
    "|id |Gender|Size (cm)|Weight (kg)|Hair Color|Blood Type|Glasses|\n",
    "|---|------|---------|-----------|----------|----------|-------|\n",
    "|22|Female|175|65|red|A|yes|\n",
    "|23|Female|176|71|red|AB|yes|\n",
    "|24|Female|176|71|red|O|yes|\n",
    "|25|Female|179|69|black|B|yes|\n",
    "|26|Female|195|62|black|B|no|\n",
    "|27|Female|203|64|black|O|yes|\n",
    "|28|Female|165|70|brown|AB|no|\n",
    "|29|Female|172|62|brown|AB|no|\n",
    "|30|Female|166|52|brown|AB|no|\n",
    "|31|Female|182|67|brown|AB|no|\n",
    "|32|Female|168|70|brown|O|yes|\n",
    "|33|Female|168|59|blond|B|no|\n",
    "|34|Male|168|62|black|B|no|\n",
    "|35|Male|178|63|red|B|no|\n",
    "|36|Male|178|59|red|AB|no|\n",
    "|37|Male|172|67|brown|A|yes|\n",
    "|38|Male|172|58|brown|A|no|\n",
    "|39|Male|185|62|brown|A|no|\n",
    "|40|Male|190|72|black|B|yes|\n",
    "|41|Male|184|70|black|B|yes|"
   ]
  },
  {
   "cell_type": "markdown",
   "metadata": {},
   "source": [
    "```\n",
    "id: no normalisation\n",
    "gender: no normalisation\n",
    "size: linear or logarithmic normalisation\n",
    "weight: linear or logarithmic normalisation\n",
    "hair color: no normalisation\n",
    "blood type: no normalisation\n",
    "glasses: no normalisation\n",
    "\n",
    "If every row of the data set discribes a data point in an area of muti-dimensional space (each attribute is a dimension) and you want to measure the distance between two points, e.g. you would use the formular of the euclidean distance. In every dimension the value of the one point gets substracted from the other point's value. If in one of the dimensions the range of the points is bigger than the range in an other dimension, the result of the euclidean distance mostly depends on the one dimension with the huge range of values. Normalizing the values to values between 0 and 1 reduces e.g. the dependency of the result of the euclidean distance on one special dimension. By this you get better and more meaningful results.\n",
    "```"
   ]
  },
  {
   "cell_type": "markdown",
   "metadata": {},
   "source": [
    "##### __(b) Using the column “Size”, use linear min-max normalization to transform the values ``166, 180, 191`` into the range ``[0, 1]``. Give the formula used to compute the values, including min/max value.__"
   ]
  },
  {
   "cell_type": "markdown",
   "metadata": {},
   "source": [
    "```\n",
    "min = 165, max = 203\n",
    "\n",
    "Xnorm = (X - min) / (max - min) = (X - 165) / 38\n",
    "\n",
    "[166, 180, 191] will be normalised to [0.03, 0.39, 0.68]\n",
    "```"
   ]
  },
  {
   "cell_type": "markdown",
   "metadata": {},
   "source": [
    "##### __(c) Using the column “Weight”, use logarithmic min-max normalization to transform the values ``58, 65, 69`` into the range ``[0, 1]``. Give the formula used to compute the values, in-cluding min/max value__"
   ]
  },
  {
   "cell_type": "markdown",
   "metadata": {},
   "source": [
    "```\n",
    "min = 52, max = 72\n",
    "\n",
    "Xnorm = (ln(X) - ln(min)) / (ln(max) - ln(min))\n",
    "\n",
    "[58, 65, 69] will be normalised to [0.3355617, 0.6857043, 0.8692173]\n",
    "```"
   ]
  },
  {
   "cell_type": "markdown",
   "metadata": {},
   "source": [
    "##### __(d) Write a method to normalize all columns of the following dataframe using the linear min-max normalization.__"
   ]
  },
  {
   "cell_type": "code",
   "execution_count": 1,
   "metadata": {},
   "outputs": [
    {
     "name": "stdout",
     "output_type": "stream",
     "text": [
      "       height gender\n",
      "1  0.26315789   male\n",
      "2  0.28947368 female\n",
      "3  0.28947368   male\n",
      "4  0.36842105 female\n",
      "5  0.78947368   male\n",
      "6  1.00000000 female\n",
      "7  0.00000000   male\n",
      "8  0.18421053 female\n",
      "9  0.02631579   male\n",
      "10 0.44736842 female\n",
      "11 0.07894737   male\n",
      "12 0.07894737 female\n",
      "13 0.07894737   male\n",
      "14 0.34210526 female\n",
      "15 0.34210526   male\n",
      "16 0.18421053 female\n",
      "17 0.18421053   male\n",
      "18 0.52631579 female\n",
      "19 0.65789474   male\n",
      "20 0.50000000 female\n"
     ]
    }
   ],
   "source": [
    "norm <- function(data){\n",
    "    maxV <- max(data)\n",
    "    minV <- min(data)\n",
    "    \n",
    "    return ((data - minV) / (maxV - minV))\n",
    "}\n",
    "\n",
    "\n",
    "# use height and gender as sample data\n",
    "height <- c(175,176,176,179,195,203,165,172,166,182,168,168,168,178,178,172,172,185,190,184)\n",
    "gender <- c('male', 'female')\n",
    "df <- data.frame(height, gender)\n",
    "\n",
    "for(idx in 1:ncol(df)){\n",
    "    row <- unlist(df[idx])\n",
    "    if(typeof(row) == 'double'){\n",
    "        df[[idx]] <- norm(row)\n",
    "    }\n",
    "}\n",
    "\n",
    "print(df)"
   ]
  },
  {
   "cell_type": "code",
   "execution_count": null,
   "metadata": {},
   "outputs": [],
   "source": []
  }
 ],
 "metadata": {
  "kernelspec": {
   "display_name": "R",
   "language": "R",
   "name": "ir"
  },
  "language_info": {
   "codemirror_mode": "r",
   "file_extension": ".r",
   "mimetype": "text/x-r-source",
   "name": "R",
   "pygments_lexer": "r",
   "version": "3.6.1"
  }
 },
 "nbformat": 4,
 "nbformat_minor": 4
}
