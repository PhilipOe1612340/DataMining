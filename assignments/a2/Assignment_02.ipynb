{
 "cells": [
  {
   "cell_type": "markdown",
   "metadata": {},
   "source": [
    "Data Mining: Basic Concepts - WS'19/20 \n",
    "---------------\n",
    "``` \n",
    "> University of Konstanz \n",
    "> Department of Computer and Information Science\n",
    "> Dr. Johannes Fuchs, Eren Cakmak, Frederik Dennig\n",
    "```\n",
    "__Organize in teams of 2 people, return the exercise by Tue, Nov 12th, 2019 (10:00 AM) using ILIAS (only one Jupyter Notebook .ipyb file)__"
   ]
  },
  {
   "cell_type": "markdown",
   "metadata": {},
   "source": [
    "---"
   ]
  },
  {
   "cell_type": "markdown",
   "metadata": {},
   "source": [
    "Assignment 02 in R - _(20 Points)_\n",
    "---------------\n",
    "- ___Please put your names and student IDs here___:\n",
    "    - _Name_, _Student ID_\n",
    "    - _Name_, _Student ID_"
   ]
  },
  {
   "cell_type": "markdown",
   "metadata": {},
   "source": [
    "---"
   ]
  },
  {
   "cell_type": "markdown",
   "metadata": {},
   "source": [
    "#### Exercise 1: Data Types - _(3 Points)_\n",
    "Imagine you have the following dataset:\n",
    "\n",
    "| Name \t| Gender   \t| Economic status  \t| Education        \t|Annual income \t|\n",
    "|------\t|----------\t|------------------\t|------------------\t|--------------\t|\n",
    "|Bob   \t|Male      \t| Low              \t|  High School     \t| 34 000       \t|\n",
    "|Alice \t|Female    \t| Medium           \t|  Master          \t| 42 000       \t|\n",
    "|Lisa  \t|Female    \t| High             \t|  Bachelor        \t| 58 000       \t|"
   ]
  },
  {
   "cell_type": "markdown",
   "metadata": {},
   "source": [
    "##### __(a) Describe for each column whether it contains nominal, ordinal or numerical data and explain why you made that decision__"
   ]
  },
  {
   "cell_type": "markdown",
   "metadata": {},
   "source": [
    "```\n",
    "Name -> Nominal,\n",
    "Gender -> Nominal,\n",
    "Economic status -> ordinal,\n",
    "Education -> ordinal,\n",
    "Annual income -> numeric\n",
    "```"
   ]
  },
  {
   "cell_type": "markdown",
   "metadata": {},
   "source": [
    "##### __(b) Give at least one mathematical operation that can be used on all three data types__"
   ]
  },
  {
   "cell_type": "markdown",
   "metadata": {},
   "source": [
    "= (equals)"
   ]
  },
  {
   "cell_type": "markdown",
   "metadata": {},
   "source": [
    "---"
   ]
  },
  {
   "cell_type": "markdown",
   "metadata": {},
   "source": [
    "#### Exercise 2: Missing Values - _(8 Points)_ "
   ]
  },
  {
   "cell_type": "markdown",
   "metadata": {},
   "source": [
    "##### __(a) Import the dataset ``data_exercise2.csv`` and print the data.__ _(Hint: notice the missing values)_"
   ]
  },
  {
   "cell_type": "code",
   "execution_count": 465,
   "metadata": {},
   "outputs": [
    {
     "name": "stdout",
     "output_type": "stream",
     "text": [
      "     x     y\n",
      "1  0.0 3.201\n",
      "2  0.2 4.568\n",
      "3  0.4 5.704\n",
      "4  0.6 6.456\n",
      "5  0.8 6.872\n",
      "6  1.0 7.000\n",
      "7  1.2 6.888\n",
      "8  1.4 6.584\n",
      "9  1.6 6.136\n",
      "10 1.8 5.892\n",
      "11 2.0 5.000\n",
      "12 2.2 4.308\n",
      "13 2.4    NA\n",
      "14 2.6    NA\n",
      "15 2.8 3.112\n",
      "16 3.0 3.000\n",
      "17 3.2 3.128\n",
      "18 3.4 3.544\n",
      "19 3.6 4.296\n",
      "20 3.8 5.332\n",
      "21 4.0 7.100\n"
     ]
    }
   ],
   "source": [
    "data <- read.csv('data_exercise2.csv')\n",
    "print(data)"
   ]
  },
  {
   "cell_type": "markdown",
   "metadata": {},
   "source": [
    "##### __(b) Fill in the missing values using the attribute mean. Plot the result using the ``plot`` function.__"
   ]
  },
  {
   "cell_type": "code",
   "execution_count": 466,
   "metadata": {},
   "outputs": [
    {
     "data": {
      "image/png": "[encoded data removed]",
      "text/plain": [
       "plot without title"
      ]
     },
     "metadata": {},
     "output_type": "display_data"
    }
   ],
   "source": [
    "fillMean <- data\n",
    "temp <- data$y\n",
    "mean(temp[!is.na(temp)]) -> m\n",
    "fillMean[is.na(fillMean)] <- m\n",
    "\n",
    "plot(fillMean)\n",
    "lines(fillMean)"
   ]
  },
  {
   "cell_type": "markdown",
   "metadata": {},
   "source": [
    "##### __(c) Instead of filling the missing values with the mean, we will now try to fill them using regression.__\n",
    "##### __What polynomial degree does the function you are looking for most likely have?__ _(Hint: Use the ``lm``, ``poly`` and `predict.lm` functions to create the regession model and use the ``lines`` function to plot it)_"
   ]
  },
  {
   "cell_type": "code",
   "execution_count": 467,
   "metadata": {},
   "outputs": [
    {
     "data": {
      "image/png": "[encoded data removed]",
      "text/plain": [
       "plot without title"
      ]
     },
     "metadata": {},
     "output_type": "display_data"
    }
   ],
   "source": [
    "empty <- subset(data, is.na(y), select=c(x))\n",
    "\n",
    "model <- lm(y ~ poly(x,3, raw = TRUE), data = data)\n",
    "\n",
    "testData <- data.frame(matrix(seq(0, 4, by=0.1),nrow=41,  ncol=2))\n",
    "names(testData) <- c('x','y')\n",
    "\n",
    "testData <- predict(model, testData)\n",
    "\n",
    "plot(testData, type='l')"
   ]
  },
  {
   "cell_type": "markdown",
   "metadata": {},
   "source": [
    "##### __(d) Compute the coefficients for the function that describes the data.__"
   ]
  },
  {
   "cell_type": "code",
   "execution_count": 468,
   "metadata": {},
   "outputs": [
    {
     "name": "stdout",
     "output_type": "stream",
     "text": [
      "[1] \"0.994981123090289 x³ +  -5.96214828608983 x² +  8.90732912257821 x + 3.08270611603447\"\n"
     ]
    }
   ],
   "source": [
    "coef <- model$coefficients\n",
    "print(paste(coef[4], 'x³ + ',coef[3], 'x² + ',coef[2], 'x +',coef[1],collapse=''))"
   ]
  },
  {
   "cell_type": "markdown",
   "metadata": {},
   "source": [
    "##### __(e) Use the computed polynomial coefficients to implement a regression method. Use the method to fill the missing values in the dataframe with values.__"
   ]
  },
  {
   "cell_type": "code",
   "execution_count": 469,
   "metadata": {},
   "outputs": [],
   "source": [
    "fillRegression <- data\n",
    "\n",
    "reg <- function(xVals, coef){\n",
    "    for(idx in 1:nrow(xVals)){\n",
    "        x <- xVals[[idx, 1]]\n",
    "        xVals[[idx, 1]] <- coef[4]*x**3 + coef[3]*x**2 + coef[2]*x + coef[1]\n",
    "    }\n",
    "    return(xVals)\n",
    "}\n",
    "\n",
    "empty <- subset(fillRegression, is.na(y), select=c(x))\n",
    "\n",
    "empty <- reg(empty, coef)\n",
    "\n",
    "fillRegression[is.na(fillRegression)] <- empty[,1]"
   ]
  },
  {
   "cell_type": "markdown",
   "metadata": {},
   "source": [
    "##### __(f) Plot your both result (mean and polynomial regression) and compare the results. Explain which values you think fit the data better and why.__"
   ]
  },
  {
   "cell_type": "code",
   "execution_count": 472,
   "metadata": {},
   "outputs": [
    {
     "data": {
      "image/png": "[encoded data removed]",
      "text/plain": [
       "plot without title"
      ]
     },
     "metadata": {},
     "output_type": "display_data"
    }
   ],
   "source": [
    "plot(fillMean,type=\"l\",col=\"green\") \n",
    "lines(fillRegression,col=\"red\")\n",
    "\n",
    "legend(0.5, 4, legend=c(\"mean\", \"regression\"), col=c(\"green\", \"red\"), lty=c(1, 1))"
   ]
  },
  {
   "cell_type": "markdown",
   "metadata": {},
   "source": [
    "Reconstruction using mean values has produces an obvious, unnatural bump. Regression is the better choise. "
   ]
  },
  {
   "cell_type": "markdown",
   "metadata": {},
   "source": [
    "---"
   ]
  },
  {
   "cell_type": "markdown",
   "metadata": {},
   "source": [
    "#### Exercise 3: Binning - _(3 Points)_ \n",
    "The following data consists of the age of several people: \n",
    "```\n",
    "> [13, 15, 16, 17, 19, 20, 21, 21, 22, 22, 25, 25, 26, 26, 30, 33, 33, 35, 35, 35, 35, 36, 40, 42, 46, 53, 70]\n",
    "```"
   ]
  },
  {
   "cell_type": "markdown",
   "metadata": {},
   "source": [
    "##### __(a) Apply binning to the dataset using 3 equal-width bins. Smooth the data using the mean of the bins. Explain the steps of your approach and give the final result.__\n",
    "##### __Please solve this exercise by hand without using R.__ "
   ]
  },
  {
   "cell_type": "markdown",
   "metadata": {},
   "source": [
    "```\n",
    "min value = 13\n",
    "max value = 70\n",
    "width = (70 - 13) / 3 = 19\n",
    "\n",
    "bin1: 13 - 32 = [13, 15, 16, 17, 19, 20, 21, 21, 22, 22, 25, 25, 26, 26, 30]\n",
    "bin2: 32 - 51 = [33, 33, 35, 35, 35, 35, 36, 40, 42, 46]\n",
    "bin3: 51 - 90 = [53, 70]\n",
    "```"
   ]
  },
  {
   "cell_type": "markdown",
   "metadata": {},
   "source": [
    "##### __(b) Apply binning to the dataset using 3 equal-depth bins. Smooth the data using the mean of the bins. Explain the steps of your approach and give the final result.__\n",
    "##### __Please solve this exercise by hand without using R.__ "
   ]
  },
  {
   "cell_type": "markdown",
   "metadata": {},
   "source": [
    "```\n",
    "number of values = 27\n",
    "bin depth = 27 / 3 = 9\n",
    "\n",
    "bin1 = [13, 15, 16, 17, 19, 20, 21, 21, 22]\n",
    "bin2 = [22, 25, 25, 26, 26, 30, 33, 33, 35]\n",
    "bin3 = [35, 35, 35, 36, 40, 42, 46, 53, 70]\n",
    "```\n"
   ]
  },
  {
   "cell_type": "markdown",
   "metadata": {},
   "source": [
    "##### __(c) Compare the results from a) and b). Give one reason why equal-depth binning might be preferable in this scenario.__"
   ]
  },
  {
   "cell_type": "markdown",
   "metadata": {},
   "source": [
    "Because of the outliers, the equal-width bins are spread out over a large range. The equal depth binning method creates a better grouping. "
   ]
  },
  {
   "cell_type": "markdown",
   "metadata": {},
   "source": [
    "---"
   ]
  },
  {
   "cell_type": "markdown",
   "metadata": {},
   "source": [
    "#### Exercise 4: Normalization - _(6 Points)_ "
   ]
  },
  {
   "cell_type": "markdown",
   "metadata": {},
   "source": [
    "##### __(a) Which of the columns in the following table can be normalized using the linear or logarithmic min-max normalization? Discuss if the normalization is useful or not.__\n",
    "\n",
    "|id |Gender|Size (cm)|Weight (kg)|Hair Color|Blood Type|Glasses|\n",
    "|---|------|---------|-----------|----------|----------|-------|\n",
    "|22|Female|175|65|red|A|yes|\n",
    "|23|Female|176|71|red|AB|yes|\n",
    "|24|Female|176|71|red|O|yes|\n",
    "|25|Female|179|69|black|B|yes|\n",
    "|26|Female|195|62|black|B|no|\n",
    "|27|Female|203|64|black|O|yes|\n",
    "|28|Female|165|70|brown|AB|no|\n",
    "|29|Female|172|62|brown|AB|no|\n",
    "|30|Female|166|52|brown|AB|no|\n",
    "|31|Female|182|67|brown|AB|no|\n",
    "|32|Female|168|70|brown|O|yes|\n",
    "|33|Female|168|59|blond|B|no|\n",
    "|34|Male|168|62|black|B|no|\n",
    "|35|Male|178|63|red|B|no|\n",
    "|36|Male|178|59|red|AB|no|\n",
    "|37|Male|172|67|brown|A|yes|\n",
    "|38|Male|172|58|brown|A|no|\n",
    "|39|Male|185|62|brown|A|no|\n",
    "|40|Male|190|72|black|B|yes|\n",
    "|41|Male|184|70|black|B|yes|"
   ]
  },
  {
   "cell_type": "markdown",
   "metadata": {},
   "source": [
    "```\n",
    "id: no normalisation\n",
    "gender: no normalisation\n",
    "size: linear normalisation\n",
    "weight: linear normalisation\n",
    "hair color: no normalisation\n",
    "blood type: no normalisation\n",
    "glasses: no normalisation\n",
    "```"
   ]
  },
  {
   "cell_type": "markdown",
   "metadata": {},
   "source": [
    "##### __(b) Using the column “Size”, use linear min-max normalization to transform the values ``166, 180, 191`` into the range ``[0, 1]``. Give the formula used to compute the values, including min/max value.__"
   ]
  },
  {
   "cell_type": "markdown",
   "metadata": {},
   "source": [
    "```\n",
    "min = 165, max = 203\n",
    "\n",
    "Xnorm = (X - min) / (max - min) = (X - 165) / 38\n",
    "\n",
    "[166, 180, 191] will be normalised to [0.03, 0.39, 0.68]\n",
    "```"
   ]
  },
  {
   "cell_type": "markdown",
   "metadata": {},
   "source": [
    "##### __(c) Using the column “Weight”, use logarithmic min-max normalization to transform the values ``58, 65, 69`` into the range ``[0, 1]``. Give the formula used to compute the values, in-cluding min/max value__"
   ]
  },
  {
   "cell_type": "markdown",
   "metadata": {},
   "source": []
  },
  {
   "cell_type": "markdown",
   "metadata": {},
   "source": [
    "##### __(d) Write a method to normalize all columns of the following dataframe using the linear min-max normalization.__"
   ]
  },
  {
   "cell_type": "code",
   "execution_count": 471,
   "metadata": {},
   "outputs": [
    {
     "name": "stdout",
     "output_type": "stream",
     "text": [
      "       height gender\n",
      "1  0.26315789   male\n",
      "2  0.28947368 female\n",
      "3  0.28947368   male\n",
      "4  0.36842105 female\n",
      "5  0.78947368   male\n",
      "6  1.00000000 female\n",
      "7  0.00000000   male\n",
      "8  0.18421053 female\n",
      "9  0.02631579   male\n",
      "10 0.44736842 female\n",
      "11 0.07894737   male\n",
      "12 0.07894737 female\n",
      "13 0.07894737   male\n",
      "14 0.34210526 female\n",
      "15 0.34210526   male\n",
      "16 0.18421053 female\n",
      "17 0.18421053   male\n",
      "18 0.52631579 female\n",
      "19 0.65789474   male\n",
      "20 0.50000000 female\n"
     ]
    }
   ],
   "source": [
    "norm <- function(data){\n",
    "    maxV <- max(data)\n",
    "    minV <- min(data)\n",
    "    \n",
    "    return ((data - minV) / (maxV - minV))\n",
    "}\n",
    "\n",
    "\n",
    "# use height and gender as sample data\n",
    "height <- c(175,176,176,179,195,203,165,172,166,182,168,168,168,178,178,172,172,185,190,184)\n",
    "gender <- c('male', 'female')\n",
    "df <- data.frame(height, gender)\n",
    "\n",
    "for(idx in 1:ncol(df)){\n",
    "    row <- unlist(df[idx])\n",
    "    if(typeof(row) == 'double'){\n",
    "        df[[idx]] <- norm(row)\n",
    "    }\n",
    "}\n",
    "\n",
    "print(df)\n"
   ]
  },
  {
   "cell_type": "code",
   "execution_count": null,
   "metadata": {},
   "outputs": [],
   "source": []
  }
 ],
 "metadata": {
  "kernelspec": {
   "display_name": "R",
   "language": "R",
   "name": "ir"
  },
  "language_info": {
   "codemirror_mode": "r",
   "file_extension": ".r",
   "mimetype": "text/x-r-source",
   "name": "R",
   "pygments_lexer": "r",
   "version": "3.6.1"
  }
 },
 "nbformat": 4,
 "nbformat_minor": 4
}
